{
 "cells": [
  {
   "cell_type": "markdown",
   "id": "casual-peninsula",
   "metadata": {},
   "source": [
    "Managing Seeds\n",
    "==============\n",
    "\n",
    "This quick tutorial explains how to deal with input files manipulated and generated during the execution.\n",
    "Let's reuse the following base snippet. The only difference here is that we are going to change the coverage\n",
    "strategy to `PATH_COVERAGE`."
   ]
  },
  {
   "cell_type": "code",
   "execution_count": 1,
   "id": "bizarre-pursuit",
   "metadata": {},
   "outputs": [
    {
     "name": "stderr",
     "output_type": "stream",
     "text": [
      "WARNING:root:symbol __gmon_start__ imported but unsupported\n"
     ]
    },
    {
     "name": "stdout",
     "output_type": "stream",
     "text": [
      "seed:78fd4aa0744187fcda352908d6263e3b (b'./crackme AAAAAAAAAAAAAAA')   [exitcode:0]\n",
      "seed:ba39b0af614b34616b62e732d2cd2c3f (b'./crackme eAAAAAAAAAAAAAA')   [exitcode:0]\n",
      "seed:9ea41b172ebd4b1a3b0840559c79936e (b'./crackme elAAAAAAAAAAAAA')   [exitcode:0]\n",
      "seed:1a997756f724d8ba6700c88049d082e7 (b'./crackme eliAAAAAAAAAAAA')   [exitcode:0]\n",
      "seed:9b2a08c3a7d7dc2659a0de22572a046d (b'./crackme elitAAAAAAAAAAA')   [exitcode:0]\n",
      "seed:bee1ba2ede4da2a0df49cf8e682cd163 (b'./crackme eliteAAAAAAAAAA')   [exitcode:0]\n"
     ]
    },
    {
     "data": {
      "text/plain": [
       "<ExplorationStatus.IDLE: 2>"
      ]
     },
     "execution_count": 1,
     "metadata": {},
     "output_type": "execute_result"
    }
   ],
   "source": [
    "from tritondse import SymbolicExecutor, Config, Seed, Program, ProcessState, SymbolicExplorator, CoverageStrategy\n",
    "\n",
    "config = Config(symbolize_argv=True, pipe_stdout=False, coverage_strategy=CoverageStrategy.PATH_COVERAGE)\n",
    "\n",
    "def post_exec_hook(se: SymbolicExecutor, state: ProcessState):\n",
    "    print(f\"seed:{se.seed.hash} ({repr(se.seed.content)})   [exitcode:{se.exitcode}]\")\n",
    "\n",
    "dse = SymbolicExplorator(config, Program(\"crackme_xor\"))\n",
    "\n",
    "dse.add_input_seed(Seed(b\"./crackme AAAAAAAAAAAAAAA\"))\n",
    "\n",
    "dse.callback_manager.register_post_execution_callback(post_exec_hook)\n",
    "\n",
    "dse.explore()"
   ]
  },
  {
   "cell_type": "markdown",
   "id": "another-ecuador",
   "metadata": {},
   "source": [
    "Just by exploring all possible paths we managed to solve the challenge. Let's play\n",
    "with the corpus."
   ]
  },
  {
   "cell_type": "markdown",
   "id": "touched-disposition",
   "metadata": {},
   "source": [
    "## Initial Corpus\n",
    "\n",
    "There are two ways to provide an initial corpus:\n",
    "\n",
    "* providing in existing workspace directory and putting manually files in the *worklist* directory\n",
    "* via the API by adding the seed with `add_input_seed`, it will automatically be added in seeds to process."
   ]
  },
  {
   "cell_type": "markdown",
   "id": "lesser-potter",
   "metadata": {},
   "source": [
    "## Managing generated corpus\n",
    "\n",
    "**SymbolicExecutor**: This class is solely meant to execute a single seed, not to produce\n",
    "new ones *(that is the purpose of the explorator)*. However if a one wants to generate a\n",
    "new input to process in a callback, it is possible with the method `enqueue_seed`. That\n",
    "method will just fill a list that will later be picked-up by the `SymbolicExplorator` instance.\n"
   ]
  },
  {
   "cell_type": "markdown",
   "id": "desirable-development",
   "metadata": {},
   "source": [
    "Here is a dummy hook function that manually negate a branching condition to generate a new input file:"
   ]
  },
  {
   "cell_type": "code",
   "execution_count": 2,
   "id": "verified-poster",
   "metadata": {},
   "outputs": [],
   "source": [
    "def hook_cmp(se: SymbolicExecutor, pstate: ProcessState, addr: int):\n",
    "    zf = pstate.cpu.zf  # concrete value\n",
    "    sym_zf = pstate.read_symbolic_register(pstate.registers.zf)\n",
    "    \n",
    "    # Revert the current value of zf to \"negate\" condition\n",
    "    status, model = pstate.solve(sym_zf.getAst() != zf)\n",
    "    \n",
    "    if status == SolverStatus.SAT:\n",
    "        new_seed = se.mk_new_seed_from_model(model)\n",
    "        se.enqueue_seed(new_seed)"
   ]
  },
  {
   "cell_type": "markdown",
   "id": "exterior-wagon",
   "metadata": {},
   "source": [
    "By default the status of the seed generated is `FRESH` but the seed you generated is a faulty one, you can directly assign it the `CRASH` status."
   ]
  },
  {
   "cell_type": "markdown",
   "id": "suffering-infection",
   "metadata": {},
   "source": [
    "**SymbolicExplorator**: All seeds generated during the exploration are moved in the `Workspace` instance from the *worklist* folder to the appropriate one *corpus*, *hangs* and *crashs*.\n",
    "One can iterate them using the workspace instance."
   ]
  },
  {
   "cell_type": "code",
   "execution_count": 3,
   "id": "numeric-ministry",
   "metadata": {},
   "outputs": [
    {
     "name": "stdout",
     "output_type": "stream",
     "text": [
      "seed to process: 0\n",
      "\n",
      "Corpus:\n",
      "1a997756f724d8ba6700c88049d082e7.00000019.tritondse.cov\n",
      "9b2a08c3a7d7dc2659a0de22572a046d.00000019.tritondse.cov\n",
      "9ea41b172ebd4b1a3b0840559c79936e.00000019.tritondse.cov\n",
      "bee1ba2ede4da2a0df49cf8e682cd163.00000019.tritondse.cov\n",
      "ba39b0af614b34616b62e732d2cd2c3f.00000019.tritondse.cov\n",
      "78fd4aa0744187fcda352908d6263e3b.00000019.tritondse.cov\n"
     ]
    }
   ],
   "source": [
    "print(\"seed to process:\", len(list(dse.workspace.iter_worklist())))\n",
    "\n",
    "print(\"\\nCorpus:\")\n",
    "for seed in dse.workspace.iter_corpus():\n",
    "      print(seed.filename)"
   ]
  },
  {
   "cell_type": "markdown",
   "id": "sealed-photographer",
   "metadata": {},
   "source": [
    "## Setting seed status\n",
    "\n",
    "During the execution one, can assign a status to the seed currently being executed in any callback.\n",
    "*(Make sure not to override a status previously set by another callback)*. At the end of an execution\n",
    "of no status has been assigned, the seed is automatically assigned `OK_DONE`."
   ]
  }
 ],
 "metadata": {
  "kernelspec": {
   "display_name": "pastis-env",
   "language": "python",
   "name": "pastis-env"
  },
  "language_info": {
   "codemirror_mode": {
    "name": "ipython",
    "version": 3
   },
   "file_extension": ".py",
   "mimetype": "text/x-python",
   "name": "python",
   "nbconvert_exporter": "python",
   "pygments_lexer": "ipython3",
   "version": "3.9.2"
  }
 },
 "nbformat": 4,
 "nbformat_minor": 5
}
