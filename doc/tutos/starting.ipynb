{
 "cells": [
  {
   "cell_type": "markdown",
   "id": "greater-honey",
   "metadata": {},
   "source": [
    "# Getting Started\n",
    "\n",
    "This tutorial introduces the TritonDSE library providing a high-level\n",
    "easy to use interface for Triton."
   ]
  },
  {
   "cell_type": "markdown",
   "id": "productive-delta",
   "metadata": {},
   "source": [
    "<!-- also: alert-info, alert-success, alert-danger-->\n",
    "<div class=\"alert alert-block alert-warning\">\n",
    "<b>Disclaimer:</b> This library is experimental. Most code has been writing toward satisfying PASTIS objectives. Thus it lacks many\n",
    "features and the API is subject to changes.\n",
    "</div>"
   ]
  },
  {
   "cell_type": "markdown",
   "id": "outside-render",
   "metadata": {},
   "source": [
    "Tritondse works in pure emulation so it theoretically have to model all program side-effects syscalls etc.\n",
    "This is not possible so it works in a very opportunistic manner. As of now limitations are the following:\n",
    "\n",
    "* Limited to Linux ELF binaries\n",
    "* Only support a subset of libc function calls *(no C++ runtime functions)*\n",
    "* No modeling of syscalls, *(they have to be modeled manually)*\n",
    "* TritonDSE have the same weaknesses than Triton in model floating point, or some specific instruction sets."
   ]
  },
  {
   "cell_type": "markdown",
   "id": "armed-serum",
   "metadata": {},
   "source": [
    "## I. Loading a program"
   ]
  },
  {
   "cell_type": "markdown",
   "id": "purple-dutch",
   "metadata": {},
   "source": [
    "For the purpose of this tutorial any samples can be used but we are going to use\n",
    "to following crackme that can be downloaded [here](figs/crackme_xor). We are first\n",
    "going to create a ``Program`` object which is solely a thin wrapper on [LIEF](https://lief.quarkslab.com)."
   ]
  },
  {
   "cell_type": "code",
   "execution_count": 1,
   "id": "smaller-friendship",
   "metadata": {},
   "outputs": [
    {
     "name": "stdout",
     "output_type": "stream",
     "text": [
      "Architecture.X86_64 ENDIANNESS.LITTLE\n",
      "0x400460\n"
     ]
    }
   ],
   "source": [
    "from tritondse import Program\n",
    "\n",
    "p = Program(\"crackme_xor\")\n",
    "\n",
    "print(p.architecture, p.endianness)\n",
    "print(hex(p.entry_point))"
   ]
  },
  {
   "cell_type": "markdown",
   "id": "inappropriate-stick",
   "metadata": {},
   "source": [
    "By the default the ``Program`` only expose few fields\n",
    "required to peform the loading of the program. Thus segments\n",
    "or imported functions are exposed. The main utility is being\n",
    "able to retrieve a function object *(as LIEF object)*"
   ]
  },
  {
   "cell_type": "code",
   "execution_count": 7,
   "id": "american-tunisia",
   "metadata": {},
   "outputs": [
    {
     "data": {
      "text/plain": [
       "<lief.Function at 0x7f3e9c31f7b0>"
      ]
     },
     "execution_count": 7,
     "metadata": {},
     "output_type": "execute_result"
    }
   ],
   "source": [
    "p.find_function(\"main\")"
   ]
  },
  {
   "cell_type": "code",
   "execution_count": 8,
   "id": "assured-generator",
   "metadata": {},
   "outputs": [
    {
     "name": "stdout",
     "output_type": "stream",
     "text": [
      "0x400000 size:2036\n",
      "0x600e10 size:576\n"
     ]
    }
   ],
   "source": [
    "for seg_addr, seg_data in p.memory_segments():\n",
    "    print(f\"0x{seg_addr:x} size:{len(seg_data)}\")"
   ]
  },
  {
   "cell_type": "markdown",
   "id": "technological-fraction",
   "metadata": {},
   "source": [
    "To perform any specific processing using directly the LIEF Binary object it can be retrieved *(even though it is not directly exposed)*"
   ]
  },
  {
   "cell_type": "code",
   "execution_count": 9,
   "id": "burning-terrorism",
   "metadata": {},
   "outputs": [
    {
     "data": {
      "text/plain": [
       "<lief.ELF.Binary at 0x7f3e9c2b8c30>"
      ]
     },
     "execution_count": 9,
     "metadata": {},
     "output_type": "execute_result"
    }
   ],
   "source": [
    "p._binary"
   ]
  },
  {
   "cell_type": "markdown",
   "id": "bulgarian-bench",
   "metadata": {},
   "source": [
    "## II. Creating a process"
   ]
  },
  {
   "cell_type": "markdown",
   "id": "painted-avenue",
   "metadata": {},
   "source": [
    "A whole program execution state is managed by the class ``ProcessState``\n",
    "which main represent a program loaded in memory backed by an underlying\n",
    "``TritonContext`` object. It basically represent a process with all its\n",
    "runtime data *(memory mapped, file descriptors etc..)*."
   ]
  },
  {
   "cell_type": "code",
   "execution_count": 5,
   "id": "interested-insight",
   "metadata": {},
   "outputs": [],
   "source": [
    "from tritondse import ProcessState\n",
    "\n",
    "pstate = ProcessState(thread_scheduling=100, time_inc_coefficient=0.001)"
   ]
  },
  {
   "cell_type": "markdown",
   "id": "demanding-mapping",
   "metadata": {},
   "source": [
    "We now have a virgin process state. We don't need to load the program\n",
    "manually in the process state as the ``SymbolicExecutor`` will do it for us."
   ]
  },
  {
   "cell_type": "markdown",
   "id": "seven-latvia",
   "metadata": {},
   "source": [
    "## III. Single Execution"
   ]
  },
  {
   "cell_type": "markdown",
   "id": "neural-mirror",
   "metadata": {},
   "source": [
    "Now we need to load the program in the process state and then start the program\n",
    "at its entrypoint by providing it a concrete input that will either be injected\n",
    "in *stdin* or on argv depending on the need. Hopefully everything is done transparently\n",
    "by ``SymbolicExecutor``."
   ]
  },
  {
   "cell_type": "code",
   "execution_count": 6,
   "id": "bottom-bookmark",
   "metadata": {},
   "outputs": [],
   "source": [
    "from tritondse import SymbolicExecutor, Config, Seed\n",
    "\n",
    "config = Config()\n",
    "seed = Seed(b\"Hello world\")\n",
    "\n",
    "executor = SymbolicExecutor(config, pstate, p, seed)"
   ]
  },
  {
   "cell_type": "markdown",
   "id": "proved-cleaners",
   "metadata": {},
   "source": [
    "This object is in charge of performing a single execution with\n",
    "the given configuration on the process state using the given program.\n",
    "\n",
    "The ``run`` methods will take care of loading the program, performing\n",
    "the dynamic relocations (PLT stuff etc) and then to start emulating from\n",
    "the entrypoint."
   ]
  },
  {
   "cell_type": "code",
   "execution_count": 7,
   "id": "contained-bubble",
   "metadata": {},
   "outputs": [
    {
     "name": "stderr",
     "output_type": "stream",
     "text": [
      "WARNING:root:No input injection location selected (neither stdin nor argv) thus user-defined\n"
     ]
    }
   ],
   "source": [
    "executor.run()"
   ]
  },
  {
   "cell_type": "markdown",
   "id": "treated-adolescent",
   "metadata": {},
   "source": [
    "We now have successfully performed a single run of our program.\n",
    "After execution, the ``ProcessState`` has been updated and represent\n",
    "the program after execution and a ``CoverageSingleRun`` as been produced\n",
    "which represent to coverage generated by the execution."
   ]
  },
  {
   "cell_type": "code",
   "execution_count": 8,
   "id": "caroline-theme",
   "metadata": {},
   "outputs": [
    {
     "data": {
      "text/plain": [
       "23"
      ]
     },
     "execution_count": 8,
     "metadata": {},
     "output_type": "execute_result"
    }
   ],
   "source": [
    "executor.coverage.total_instruction_executed"
   ]
  },
  {
   "cell_type": "code",
   "execution_count": 9,
   "id": "simplified-honolulu",
   "metadata": {},
   "outputs": [
    {
     "data": {
      "text/plain": [
       "255"
      ]
     },
     "execution_count": 9,
     "metadata": {},
     "output_type": "execute_result"
    }
   ],
   "source": [
    "executor.exitcode"
   ]
  },
  {
   "cell_type": "markdown",
   "id": "every-immune",
   "metadata": {},
   "source": [
    "## IV. Manipulating concrete state\n",
    "\n",
    "A process can be manipulated and modified at any time during the execution. Both the concrete state and symbolic state can be modified.\n",
    "\n",
    "Process infos:"
   ]
  },
  {
   "cell_type": "code",
   "execution_count": 10,
   "id": "earlier-webcam",
   "metadata": {},
   "outputs": [],
   "source": [
    "from tritondse.types import Architecture"
   ]
  },
  {
   "cell_type": "code",
   "execution_count": 11,
   "id": "sufficient-scanner",
   "metadata": {},
   "outputs": [
    {
     "name": "stdout",
     "output_type": "stream",
     "text": [
      "arch: X86_64  ptrsize:64\n"
     ]
    }
   ],
   "source": [
    "print(f\"arch: {pstate.architecture.name}  ptrsize:{pstate.ptr_bit_size}\")"
   ]
  },
  {
   "cell_type": "markdown",
   "id": "stuck-dressing",
   "metadata": {},
   "source": [
    "#### a. Reading, writing registers (function API)\n",
    "\n",
    "Most of the API enables addressing register either by an enum identifier *(triton one)* or directly with theirs string."
   ]
  },
  {
   "cell_type": "code",
   "execution_count": 12,
   "id": "breeding-berlin",
   "metadata": {},
   "outputs": [
    {
     "data": {
      "text/plain": [
       "rax:64 bv[63..0]"
      ]
     },
     "execution_count": 12,
     "metadata": {},
     "output_type": "execute_result"
    }
   ],
   "source": [
    "pstate.registers.rax"
   ]
  },
  {
   "cell_type": "markdown",
   "id": "behind-going",
   "metadata": {},
   "source": [
    "A ``ProcessState`` also provides some alias to access program counter, stack register, base pointer or return register in a portable way."
   ]
  },
  {
   "cell_type": "code",
   "execution_count": 13,
   "id": "impressive-giving",
   "metadata": {},
   "outputs": [
    {
     "data": {
      "text/plain": [
       "(rip:64 bv[63..0], rbp:64 bv[63..0], rsp:64 bv[63..0], rax:64 bv[63..0])"
      ]
     },
     "execution_count": 13,
     "metadata": {},
     "output_type": "execute_result"
    }
   ],
   "source": [
    "pstate.program_counter_register, \\\n",
    "pstate.base_pointer_register, \\\n",
    "pstate.stack_pointer_register, \\\n",
    "pstate.return_register"
   ]
  },
  {
   "cell_type": "markdown",
   "id": "sensitive-amount",
   "metadata": {},
   "source": [
    "Then both concrete an symbolic values can be modified using a function-style API."
   ]
  },
  {
   "cell_type": "code",
   "execution_count": 14,
   "id": "revolutionary-alias",
   "metadata": {},
   "outputs": [
    {
     "data": {
      "text/plain": [
       "'0xdeadbeef'"
      ]
     },
     "execution_count": 14,
     "metadata": {},
     "output_type": "execute_result"
    }
   ],
   "source": [
    "pstate.write_register(pstate.registers.rax, 0xdeadbeef)\n",
    "\n",
    "hex(pstate.read_register(pstate.registers.rax))"
   ]
  },
  {
   "cell_type": "markdown",
   "id": "suburban-london",
   "metadata": {},
   "source": [
    "#### b. Reading, writing registers (Pythonic API)"
   ]
  },
  {
   "cell_type": "markdown",
   "id": "optical-gamma",
   "metadata": {},
   "source": [
    "To ease manipulation of the registers concrete values, the ``ProcessState`` introduces a ``cpu`` attributes that transparently updates the underlying triton context."
   ]
  },
  {
   "cell_type": "code",
   "execution_count": 15,
   "id": "similar-fault",
   "metadata": {},
   "outputs": [
    {
     "data": {
      "text/plain": [
       "3735928559"
      ]
     },
     "execution_count": 15,
     "metadata": {},
     "output_type": "execute_result"
    }
   ],
   "source": [
    "pstate.cpu.rax"
   ]
  },
  {
   "cell_type": "code",
   "execution_count": 16,
   "id": "comic-indian",
   "metadata": {},
   "outputs": [
    {
     "data": {
      "text/plain": [
       "3735928563"
      ]
     },
     "execution_count": 16,
     "metadata": {},
     "output_type": "execute_result"
    }
   ],
   "source": [
    "pstate.cpu.rax += 4\n",
    "\n",
    "pstate.cpu.rax"
   ]
  },
  {
   "cell_type": "code",
   "execution_count": 17,
   "id": "apart-emission",
   "metadata": {},
   "outputs": [
    {
     "name": "stdout",
     "output_type": "stream",
     "text": [
      "RIP: 0x400489\n"
     ]
    }
   ],
   "source": [
    "print(f\"RIP: 0x{pstate.cpu.program_counter:x}\")"
   ]
  },
  {
   "cell_type": "markdown",
   "id": "concerned-rwanda",
   "metadata": {},
   "source": [
    "#### c. Reading, writing memory\n",
    "\n",
    "When manipulating memory what differs is whether we write bytes or integers.\n",
    "In the case of integers, the endianess will be taken in account when reading,\n",
    "writing in memory."
   ]
  },
  {
   "cell_type": "code",
   "execution_count": 18,
   "id": "hydraulic-percentage",
   "metadata": {},
   "outputs": [
    {
     "data": {
      "text/plain": [
       "2303323441"
      ]
     },
     "execution_count": 18,
     "metadata": {},
     "output_type": "execute_result"
    }
   ],
   "source": [
    "pstate.read_memory_int(p.entry_point, 4)  # Size in bytes"
   ]
  },
  {
   "cell_type": "code",
   "execution_count": 19,
   "id": "critical-internship",
   "metadata": {},
   "outputs": [
    {
     "data": {
      "text/plain": [
       "'0x89485ed18949ed31'"
      ]
     },
     "execution_count": 19,
     "metadata": {},
     "output_type": "execute_result"
    }
   ],
   "source": [
    "hex(pstate.read_memory_ptr(p.entry_point))  # Read directly the size of a pointer equivalent to read_memory_int(X, pstate.ptr_size)"
   ]
  },
  {
   "cell_type": "code",
   "execution_count": 20,
   "id": "spread-thesaurus",
   "metadata": {},
   "outputs": [
    {
     "data": {
      "text/plain": [
       "b'1\\xedI\\x89\\xd1^H\\x89'"
      ]
     },
     "execution_count": 20,
     "metadata": {},
     "output_type": "execute_result"
    }
   ],
   "source": [
    "pstate.read_memory_bytes(p.entry_point, 8)"
   ]
  },
  {
   "cell_type": "markdown",
   "id": "alternative-magic",
   "metadata": {},
   "source": [
    "The exact same functions exists for writing: `write_memory_int`, `write_memory_ptr`, `write_memory_bytes`."
   ]
  },
  {
   "cell_type": "markdown",
   "id": "spread-modification",
   "metadata": {},
   "source": [
    "A `ProcessState` object also enables checking whether an address is mapped in memory:"
   ]
  },
  {
   "cell_type": "code",
   "execution_count": 21,
   "id": "radio-scenario",
   "metadata": {},
   "outputs": [
    {
     "data": {
      "text/plain": [
       "(True, False)"
      ]
     },
     "execution_count": 21,
     "metadata": {},
     "output_type": "execute_result"
    }
   ],
   "source": [
    "pstate.is_valid_memory_mapping(p.entry_point), pstate.is_valid_memory_mapping(0)"
   ]
  },
  {
   "cell_type": "markdown",
   "id": "allied-connectivity",
   "metadata": {},
   "source": [
    "## V. Manipulating symbolic state\n",
    "\n",
    "Both symbolic registers and symbolic memory can be manipulated in a similar fashion than the concrete state.\n",
    "\n",
    "One should be cautious when manipulating the symbolic state to keep it consistent with the concrete state in order to remain sound."
   ]
  },
  {
   "cell_type": "markdown",
   "id": "double-webster",
   "metadata": {},
   "source": [
    "Symbolic values can be read written with a similar API than concrete state."
   ]
  },
  {
   "cell_type": "code",
   "execution_count": 22,
   "id": "spatial-module",
   "metadata": {},
   "outputs": [
    {
     "data": {
      "text/plain": [
       "(define-fun ref!122 () (_ BitVec 64) (_ bv32 64)) ; assign rax: "
      ]
     },
     "execution_count": 22,
     "metadata": {},
     "output_type": "execute_result"
    }
   ],
   "source": [
    "new_sym = pstate.actx.bv(32, 64)  # new symbolic expression representing a constant\n",
    "\n",
    "pstate.write_symbolic_register(pstate.registers.rax, new_sym)  # the expression can either be a AstNode or SymbolicExpression triton object\n",
    "\n",
    "pstate.read_symbolic_register(pstate.registers.rax)"
   ]
  },
  {
   "cell_type": "markdown",
   "id": "raised-mystery",
   "metadata": {},
   "source": [
    "The same can be done on memory with `read_symbolic_memory_byte`, `read_symbolic_memory_bytes`, `read_symbolic_memory_int` and theirs equivalent for writing."
   ]
  },
  {
   "cell_type": "markdown",
   "id": "aboriginal-peninsula",
   "metadata": {},
   "source": [
    "<!-- also: alert-info, alert-success, alert-danger-->\n",
    "<div class=\"alert alert-block alert-warning\">\n",
    "<b>Disclaimer:</b> Writing an arbitrary symbolic value in a register or memory might break soundness, and the dependency with previous definition of the variable. In standard usage a user, is usually not supposed to modify symbolic values but rather to concretize values or adding new constraints in the path predicate.\n",
    "</div>"
   ]
  },
  {
   "cell_type": "markdown",
   "id": "sophisticated-purple",
   "metadata": {},
   "source": [
    "We using the concrete value of a register *(or memory)* to produce side-effects on the system we usually have to\n",
    "concretize to value in order to remain sound wrt to execution. We can do it with `concretize_register` that will\n",
    "enforce the symbolic value to match the current concrete value."
   ]
  },
  {
   "cell_type": "code",
   "execution_count": 23,
   "id": "helpful-lecture",
   "metadata": {},
   "outputs": [],
   "source": [
    "pstate.concretize_register(pstate.registers.rax)"
   ]
  },
  {
   "cell_type": "markdown",
   "id": "middle-lottery",
   "metadata": {},
   "source": [
    "We also can push our own constraints in the symbolic state."
   ]
  },
  {
   "cell_type": "code",
   "execution_count": 25,
   "id": "lovely-audience",
   "metadata": {},
   "outputs": [
    {
     "name": "stdout",
     "output_type": "stream",
     "text": [
      "(= (_ bv32 64) (_ bv4 64))\n"
     ]
    }
   ],
   "source": [
    "sym_rax = pstate.read_symbolic_register(pstate.registers.rax)\n",
    "\n",
    "constraint = sym_rax.getAst() == 4\n",
    "print(constraint)\n",
    "\n",
    "pstate.push_constraint(constraint)"
   ]
  },
  {
   "cell_type": "markdown",
   "id": "stuck-colorado",
   "metadata": {},
   "source": [
    "## VI. Configuration\n",
    "\n",
    "As seen before, a `SymbolicExecutor` takes a a `Config` object as input.\n",
    "It tunes multiple parameters that will be used during execution and exploration.\n",
    "These parameters are the following:\n",
    "\n",
    "\n",
    "* symbolize_argv (bool): Symbolize parameters given on the command line\n",
    "* symbolize_stdin (bool): Symbolize reads on ``stdin``\n",
    "* pipe_stdout (bool): Pipe the program stdout to Python's stdout\n",
    "* pipe_stderr (bool): Pipe the program stderr to Python's stderr\n",
    "* skip_sleep_routine (bool): Whether to emulate sleeps routine or to skip it\n",
    "* smt_timeout (int): Timeout for a single SMT query in milliseconds\n",
    "* execution_timeout (int): Timeout of a single execution *(in secs)*\n",
    "* exploration_timeout (int): Overall timeout of the exploration (in secs)*\n",
    "* exploration_limit (int): Number of execution iterations. *(0 means unlimited)*\n",
    "* thread_scheduling (int): Number of instructions to execute before switching to the next thread\n",
    "* smt_queries_limit (int): Limit of SMT queries to perform for a single execution\n",
    "* coverage_strategy (CoverageStrategy): Coverage strategy to apply for the whole exploration\n",
    "* branch_solving_strategy (BranchCheckStrategy): Branch solving strategy to apply for a single execution\n",
    "* debug (bool): Enable debug logging or not\n",
    "* workspace (str): Workspace directory to use\n",
    "* program_argv (List[str]): Concrete program argument as given on the command line\n",
    "* time_inc_coefficient (float): Execution time of each instruction *(for rdtsc)*"
   ]
  },
  {
   "cell_type": "code",
   "execution_count": 26,
   "id": "proof-ticket",
   "metadata": {},
   "outputs": [],
   "source": [
    "c = Config()\n",
    "c.symbolize_argv = True"
   ]
  },
  {
   "cell_type": "markdown",
   "id": "eastern-possible",
   "metadata": {},
   "source": [
    "## VII. Exploration\n",
    "\n",
    "Now that we performed a single run, lets try to explore the program by symbolizing\n",
    "`argv` to see how many different paths we are able to take."
   ]
  },
  {
   "cell_type": "code",
   "execution_count": 1,
   "id": "comic-childhood",
   "metadata": {},
   "outputs": [
    {
     "name": "stderr",
     "output_type": "stream",
     "text": [
      "DEBUG:root:Creating the /tmp/triton_workspace/1620994430/corpus directory\n",
      "DEBUG:root:Creating the /tmp/triton_workspace/1620994430/crashes directory\n",
      "DEBUG:root:Creating the /tmp/triton_workspace/1620994430/hangs directory\n",
      "DEBUG:root:Creating the /tmp/triton_workspace/1620994430/worklist directory\n",
      "DEBUG:root:Creating the /tmp/triton_workspace/1620994430/metadata directory\n",
      "DEBUG:root:Seed 78fd4aa0744187fcda352908d6263e3b.00000019.tritondse.cov dumped [NEW]\n",
      "INFO:root:Pick-up seed: 78fd4aa0744187fcda352908d6263e3b.00000019.tritondse.cov (fresh: True)\n",
      "INFO:root:Initialize ProcessState with thread scheduling: 200\n",
      "DEBUG:root:Loading program crackme_xor [4]\n",
      "DEBUG:root:Loading 0x400000 - 0x4007f4\n",
      "DEBUG:root:Loading 0x600e10 - 0x601050\n",
      "DEBUG:root:Hooking puts at 0x601018\n",
      "DEBUG:root:Hooking __libc_start_main at 0x601020\n",
      "INFO:root:Starting emulation\n",
      "DEBUG:root:Enter external routine: __libc_start_main\n",
      "DEBUG:root:__libc_start_main hooked\n",
      "DEBUG:root:argc = 2\n",
      "DEBUG:root:argv[0] = b'./crackme'\n",
      "DEBUG:root:argv[1] = b'AAAAAAAAAAAAAAA'\n",
      "DEBUG:root:Enter external routine: puts\n",
      "DEBUG:root:puts hooked\n"
     ]
    },
    {
     "name": "stdout",
     "output_type": "stream",
     "text": [
      "fail\n"
     ]
    },
    {
     "name": "stderr",
     "output_type": "stream",
     "text": [
      "INFO:root:hit 0x400489: hlt instruction stop.\n",
      "INFO:root:Emulation done [ret:0]  (time:0.02s)\n",
      "INFO:root:Instructions executed: 61  symbolic branches: 1\n",
      "INFO:root:Memory usage: 93.25Mb\n",
      "INFO:root:Seed 78fd4aa0744187fcda352908d6263e3b generate new coverage\n",
      "INFO:root:Query n°1, solve:0x004005a2 (time: 0.06s) [\u001b[92mSAT\u001b[0m]\n",
      "INFO:root:New seed model ba39b0af614b34616b62e732d2cd2c3f.00000019.tritondse.cov dumped [NEW]\n",
      "INFO:root:Corpus:1 Crash:0\n",
      "INFO:root:Seed Scheduler: worklist:1 Coverage objectives:1  (fresh:0)\n",
      "INFO:root:Coverage instruction:61 edges:0\n",
      "INFO:root:Elapsed time: 0m0s\n",
      "\n",
      "INFO:root:Pick-up seed: ba39b0af614b34616b62e732d2cd2c3f.00000019.tritondse.cov (fresh: False)\n",
      "INFO:root:Initialize ProcessState with thread scheduling: 200\n",
      "DEBUG:root:Loading program crackme_xor [4]\n",
      "DEBUG:root:Loading 0x400000 - 0x4007f4\n",
      "DEBUG:root:Loading 0x600e10 - 0x601050\n",
      "DEBUG:root:Hooking puts at 0x601018\n",
      "DEBUG:root:Hooking __libc_start_main at 0x601020\n",
      "INFO:root:Starting emulation\n",
      "DEBUG:root:Enter external routine: __libc_start_main\n",
      "DEBUG:root:__libc_start_main hooked\n",
      "DEBUG:root:argc = 2\n",
      "DEBUG:root:argv[0] = b'./crackme'\n",
      "DEBUG:root:argv[1] = b'eAAAAAAAAAAAAAA'\n",
      "DEBUG:root:Enter external routine: puts\n",
      "DEBUG:root:puts hooked\n"
     ]
    },
    {
     "name": "stdout",
     "output_type": "stream",
     "text": [
      "fail\n"
     ]
    },
    {
     "name": "stderr",
     "output_type": "stream",
     "text": [
      "INFO:root:hit 0x400489: hlt instruction stop.\n",
      "INFO:root:Emulation done [ret:0]  (time:0.04s)\n",
      "INFO:root:Instructions executed: 81  symbolic branches: 2\n",
      "INFO:root:Memory usage: 106.82Mb\n",
      "WARNING:root:Seed ba39b0af614b34616b62e732d2cd2c3f archived cannot generate new coverage [OK_DONE]\n",
      "INFO:root:Corpus:2 Crash:0\n",
      "INFO:root:Seed Scheduler: worklist:0 Coverage objectives:0  (fresh:0)\n",
      "INFO:root:Coverage instruction:62 edges:0\n",
      "INFO:root:Elapsed time: 0m0s\n",
      "\n",
      "INFO:root:Branches reverted: 1  Branches still fail: 0\n",
      "INFO:root:Total time of the exploration: 0m0s\n"
     ]
    },
    {
     "data": {
      "text/plain": [
       "<ExplorationStatus.IDLE: 2>"
      ]
     },
     "execution_count": 1,
     "metadata": {},
     "output_type": "execute_result"
    }
   ],
   "source": [
    "from tritondse import SymbolicExplorator, SymbolicExecutor, ProcessState, Seed, Config, CoverageStrategy, Program\n",
    "\n",
    "import logging\n",
    "logging.basicConfig(level=logging.DEBUG)\n",
    "\n",
    "# Load the program\n",
    "p = Program(\"crackme_xor\")\n",
    "\n",
    "dse = SymbolicExplorator(Config(symbolize_argv=True, debug=True, pipe_stdout=True), p)\n",
    "\n",
    "# create a dummy seed representing argv and add it to inputs\n",
    "seed = Seed(b\"./crackme AAAAAAAAAAAAAAA\")\n",
    "dse.add_input_seed(seed)\n",
    "\n",
    "dse.explore()"
   ]
  },
  {
   "cell_type": "code",
   "execution_count": 2,
   "id": "elder-injection",
   "metadata": {},
   "outputs": [
    {
     "data": {
      "text/plain": [
       "2"
      ]
     },
     "execution_count": 2,
     "metadata": {},
     "output_type": "execute_result"
    }
   ],
   "source": [
    "dse.execution_count"
   ]
  },
  {
   "cell_type": "markdown",
   "id": "stock-spanish",
   "metadata": {},
   "source": [
    "We now have completed a very simple exploration, where we covered two distincts paths."
   ]
  },
  {
   "cell_type": "markdown",
   "id": "coral-vegetable",
   "metadata": {},
   "source": [
    "## VIII. Workspace & Corpus\n",
    "\n",
    "All inputs, crashes and various metadata are stored in a workspace. Unless explicitely specified\n",
    "the workspace is created in */tmp/triton_workspace/[timestamp]*. If a workspace directory is given\n",
    "via the `Config` this one is loaded *(which enables restarting an interrupted run)*.\n",
    "\n",
    "The whole corpus and crashes generated shall now be available in this directory."
   ]
  }
 ],
 "metadata": {
  "kernelspec": {
   "display_name": "pastis-env",
   "language": "python",
   "name": "pastis-env"
  },
  "language_info": {
   "codemirror_mode": {
    "name": "ipython",
    "version": 3
   },
   "file_extension": ".py",
   "mimetype": "text/x-python",
   "name": "python",
   "nbconvert_exporter": "python",
   "pygments_lexer": "ipython3",
   "version": "3.9.2"
  }
 },
 "nbformat": 4,
 "nbformat_minor": 5
}
